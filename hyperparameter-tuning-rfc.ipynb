{
 "cells": [
  {
   "cell_type": "code",
   "execution_count": 17,
   "metadata": {},
   "outputs": [],
   "source": [
    "from sklearn.ensemble import RandomForestClassifier\n",
    "from sklearn.model_selection import GridSearchCV\n",
    "from sklearn.metrics import accuracy_score, precision_score, recall_score, f1_score, roc_curve, roc_auc_score, confusion_matrix\n",
    "import pandas as pd\n",
    "import matplotlib.pyplot as plt\n",
    "import numpy as np"
   ]
  },
  {
   "cell_type": "code",
   "execution_count": 2,
   "metadata": {},
   "outputs": [],
   "source": [
    "train_df = pd.read_csv('train_df.csv')\n",
    "X_train = train_df.drop(columns=['Mood Label'])\n",
    "y_train = train_df['Mood Label']"
   ]
  },
  {
   "cell_type": "code",
   "execution_count": 3,
   "metadata": {},
   "outputs": [],
   "source": [
    "class_weights = dict(train_df['Mood Label'].value_counts(normalize=True))"
   ]
  },
  {
   "cell_type": "code",
   "execution_count": 4,
   "metadata": {},
   "outputs": [],
   "source": [
    "param_grid = {\n",
    "    'n_estimators': [50, 100, 150],\n",
    "    'max_depth': [None, 10, 20, 30]\n",
    "}"
   ]
  },
  {
   "cell_type": "code",
   "execution_count": 5,
   "metadata": {},
   "outputs": [],
   "source": [
    "grid_search = GridSearchCV(RandomForestClassifier(random_state=42, class_weight=class_weights),\n",
    "                           param_grid, cv=5, scoring='accuracy')"
   ]
  },
  {
   "cell_type": "code",
   "execution_count": 6,
   "metadata": {},
   "outputs": [
    {
     "data": {
      "text/html": [
       "<style>#sk-container-id-1 {color: black;}#sk-container-id-1 pre{padding: 0;}#sk-container-id-1 div.sk-toggleable {background-color: white;}#sk-container-id-1 label.sk-toggleable__label {cursor: pointer;display: block;width: 100%;margin-bottom: 0;padding: 0.3em;box-sizing: border-box;text-align: center;}#sk-container-id-1 label.sk-toggleable__label-arrow:before {content: \"▸\";float: left;margin-right: 0.25em;color: #696969;}#sk-container-id-1 label.sk-toggleable__label-arrow:hover:before {color: black;}#sk-container-id-1 div.sk-estimator:hover label.sk-toggleable__label-arrow:before {color: black;}#sk-container-id-1 div.sk-toggleable__content {max-height: 0;max-width: 0;overflow: hidden;text-align: left;background-color: #f0f8ff;}#sk-container-id-1 div.sk-toggleable__content pre {margin: 0.2em;color: black;border-radius: 0.25em;background-color: #f0f8ff;}#sk-container-id-1 input.sk-toggleable__control:checked~div.sk-toggleable__content {max-height: 200px;max-width: 100%;overflow: auto;}#sk-container-id-1 input.sk-toggleable__control:checked~label.sk-toggleable__label-arrow:before {content: \"▾\";}#sk-container-id-1 div.sk-estimator input.sk-toggleable__control:checked~label.sk-toggleable__label {background-color: #d4ebff;}#sk-container-id-1 div.sk-label input.sk-toggleable__control:checked~label.sk-toggleable__label {background-color: #d4ebff;}#sk-container-id-1 input.sk-hidden--visually {border: 0;clip: rect(1px 1px 1px 1px);clip: rect(1px, 1px, 1px, 1px);height: 1px;margin: -1px;overflow: hidden;padding: 0;position: absolute;width: 1px;}#sk-container-id-1 div.sk-estimator {font-family: monospace;background-color: #f0f8ff;border: 1px dotted black;border-radius: 0.25em;box-sizing: border-box;margin-bottom: 0.5em;}#sk-container-id-1 div.sk-estimator:hover {background-color: #d4ebff;}#sk-container-id-1 div.sk-parallel-item::after {content: \"\";width: 100%;border-bottom: 1px solid gray;flex-grow: 1;}#sk-container-id-1 div.sk-label:hover label.sk-toggleable__label {background-color: #d4ebff;}#sk-container-id-1 div.sk-serial::before {content: \"\";position: absolute;border-left: 1px solid gray;box-sizing: border-box;top: 0;bottom: 0;left: 50%;z-index: 0;}#sk-container-id-1 div.sk-serial {display: flex;flex-direction: column;align-items: center;background-color: white;padding-right: 0.2em;padding-left: 0.2em;position: relative;}#sk-container-id-1 div.sk-item {position: relative;z-index: 1;}#sk-container-id-1 div.sk-parallel {display: flex;align-items: stretch;justify-content: center;background-color: white;position: relative;}#sk-container-id-1 div.sk-item::before, #sk-container-id-1 div.sk-parallel-item::before {content: \"\";position: absolute;border-left: 1px solid gray;box-sizing: border-box;top: 0;bottom: 0;left: 50%;z-index: -1;}#sk-container-id-1 div.sk-parallel-item {display: flex;flex-direction: column;z-index: 1;position: relative;background-color: white;}#sk-container-id-1 div.sk-parallel-item:first-child::after {align-self: flex-end;width: 50%;}#sk-container-id-1 div.sk-parallel-item:last-child::after {align-self: flex-start;width: 50%;}#sk-container-id-1 div.sk-parallel-item:only-child::after {width: 0;}#sk-container-id-1 div.sk-dashed-wrapped {border: 1px dashed gray;margin: 0 0.4em 0.5em 0.4em;box-sizing: border-box;padding-bottom: 0.4em;background-color: white;}#sk-container-id-1 div.sk-label label {font-family: monospace;font-weight: bold;display: inline-block;line-height: 1.2em;}#sk-container-id-1 div.sk-label-container {text-align: center;}#sk-container-id-1 div.sk-container {/* jupyter's `normalize.less` sets `[hidden] { display: none; }` but bootstrap.min.css set `[hidden] { display: none !important; }` so we also need the `!important` here to be able to override the default hidden behavior on the sphinx rendered scikit-learn.org. See: https://github.com/scikit-learn/scikit-learn/issues/21755 */display: inline-block !important;position: relative;}#sk-container-id-1 div.sk-text-repr-fallback {display: none;}</style><div id=\"sk-container-id-1\" class=\"sk-top-container\"><div class=\"sk-text-repr-fallback\"><pre>GridSearchCV(cv=5,\n",
       "             estimator=RandomForestClassifier(class_weight={&#x27;ambient&#x27;: 0.054466230936819175,\n",
       "                                                            &#x27;enigmatic&#x27;: 0.08932461873638345,\n",
       "                                                            &#x27;epic&#x27;: 0.10893246187363835,\n",
       "                                                            &#x27;focus&#x27;: 0.10893246187363835,\n",
       "                                                            &#x27;happy&#x27;: 0.10893246187363835,\n",
       "                                                            &#x27;relax&#x27;: 0.10893246187363835,\n",
       "                                                            &#x27;romance&#x27;: 0.10893246187363835,\n",
       "                                                            &#x27;sad&#x27;: 0.10893246187363835,\n",
       "                                                            &#x27;tranquil&#x27;: 0.09368191721132897,\n",
       "                                                            &#x27;upbeat&#x27;: 0.10893246187363835},\n",
       "                                              random_state=42),\n",
       "             param_grid={&#x27;max_depth&#x27;: [None, 10, 20, 30],\n",
       "                         &#x27;n_estimators&#x27;: [50, 100, 150]},\n",
       "             scoring=&#x27;accuracy&#x27;)</pre><b>In a Jupyter environment, please rerun this cell to show the HTML representation or trust the notebook. <br />On GitHub, the HTML representation is unable to render, please try loading this page with nbviewer.org.</b></div><div class=\"sk-container\" hidden><div class=\"sk-item sk-dashed-wrapped\"><div class=\"sk-label-container\"><div class=\"sk-label sk-toggleable\"><input class=\"sk-toggleable__control sk-hidden--visually\" id=\"sk-estimator-id-1\" type=\"checkbox\" ><label for=\"sk-estimator-id-1\" class=\"sk-toggleable__label sk-toggleable__label-arrow\">GridSearchCV</label><div class=\"sk-toggleable__content\"><pre>GridSearchCV(cv=5,\n",
       "             estimator=RandomForestClassifier(class_weight={&#x27;ambient&#x27;: 0.054466230936819175,\n",
       "                                                            &#x27;enigmatic&#x27;: 0.08932461873638345,\n",
       "                                                            &#x27;epic&#x27;: 0.10893246187363835,\n",
       "                                                            &#x27;focus&#x27;: 0.10893246187363835,\n",
       "                                                            &#x27;happy&#x27;: 0.10893246187363835,\n",
       "                                                            &#x27;relax&#x27;: 0.10893246187363835,\n",
       "                                                            &#x27;romance&#x27;: 0.10893246187363835,\n",
       "                                                            &#x27;sad&#x27;: 0.10893246187363835,\n",
       "                                                            &#x27;tranquil&#x27;: 0.09368191721132897,\n",
       "                                                            &#x27;upbeat&#x27;: 0.10893246187363835},\n",
       "                                              random_state=42),\n",
       "             param_grid={&#x27;max_depth&#x27;: [None, 10, 20, 30],\n",
       "                         &#x27;n_estimators&#x27;: [50, 100, 150]},\n",
       "             scoring=&#x27;accuracy&#x27;)</pre></div></div></div><div class=\"sk-parallel\"><div class=\"sk-parallel-item\"><div class=\"sk-item\"><div class=\"sk-label-container\"><div class=\"sk-label sk-toggleable\"><input class=\"sk-toggleable__control sk-hidden--visually\" id=\"sk-estimator-id-2\" type=\"checkbox\" ><label for=\"sk-estimator-id-2\" class=\"sk-toggleable__label sk-toggleable__label-arrow\">estimator: RandomForestClassifier</label><div class=\"sk-toggleable__content\"><pre>RandomForestClassifier(class_weight={&#x27;ambient&#x27;: 0.054466230936819175,\n",
       "                                     &#x27;enigmatic&#x27;: 0.08932461873638345,\n",
       "                                     &#x27;epic&#x27;: 0.10893246187363835,\n",
       "                                     &#x27;focus&#x27;: 0.10893246187363835,\n",
       "                                     &#x27;happy&#x27;: 0.10893246187363835,\n",
       "                                     &#x27;relax&#x27;: 0.10893246187363835,\n",
       "                                     &#x27;romance&#x27;: 0.10893246187363835,\n",
       "                                     &#x27;sad&#x27;: 0.10893246187363835,\n",
       "                                     &#x27;tranquil&#x27;: 0.09368191721132897,\n",
       "                                     &#x27;upbeat&#x27;: 0.10893246187363835},\n",
       "                       random_state=42)</pre></div></div></div><div class=\"sk-serial\"><div class=\"sk-item\"><div class=\"sk-estimator sk-toggleable\"><input class=\"sk-toggleable__control sk-hidden--visually\" id=\"sk-estimator-id-3\" type=\"checkbox\" ><label for=\"sk-estimator-id-3\" class=\"sk-toggleable__label sk-toggleable__label-arrow\">RandomForestClassifier</label><div class=\"sk-toggleable__content\"><pre>RandomForestClassifier(class_weight={&#x27;ambient&#x27;: 0.054466230936819175,\n",
       "                                     &#x27;enigmatic&#x27;: 0.08932461873638345,\n",
       "                                     &#x27;epic&#x27;: 0.10893246187363835,\n",
       "                                     &#x27;focus&#x27;: 0.10893246187363835,\n",
       "                                     &#x27;happy&#x27;: 0.10893246187363835,\n",
       "                                     &#x27;relax&#x27;: 0.10893246187363835,\n",
       "                                     &#x27;romance&#x27;: 0.10893246187363835,\n",
       "                                     &#x27;sad&#x27;: 0.10893246187363835,\n",
       "                                     &#x27;tranquil&#x27;: 0.09368191721132897,\n",
       "                                     &#x27;upbeat&#x27;: 0.10893246187363835},\n",
       "                       random_state=42)</pre></div></div></div></div></div></div></div></div></div></div>"
      ],
      "text/plain": [
       "GridSearchCV(cv=5,\n",
       "             estimator=RandomForestClassifier(class_weight={'ambient': 0.054466230936819175,\n",
       "                                                            'enigmatic': 0.08932461873638345,\n",
       "                                                            'epic': 0.10893246187363835,\n",
       "                                                            'focus': 0.10893246187363835,\n",
       "                                                            'happy': 0.10893246187363835,\n",
       "                                                            'relax': 0.10893246187363835,\n",
       "                                                            'romance': 0.10893246187363835,\n",
       "                                                            'sad': 0.10893246187363835,\n",
       "                                                            'tranquil': 0.09368191721132897,\n",
       "                                                            'upbeat': 0.10893246187363835},\n",
       "                                              random_state=42),\n",
       "             param_grid={'max_depth': [None, 10, 20, 30],\n",
       "                         'n_estimators': [50, 100, 150]},\n",
       "             scoring='accuracy')"
      ]
     },
     "execution_count": 6,
     "metadata": {},
     "output_type": "execute_result"
    }
   ],
   "source": [
    "grid_search.fit(X_train, y_train)"
   ]
  },
  {
   "cell_type": "code",
   "execution_count": 7,
   "metadata": {},
   "outputs": [
    {
     "name": "stdout",
     "output_type": "stream",
     "text": [
      "Best Hyperparameters:  {'max_depth': 20, 'n_estimators': 50}\n"
     ]
    }
   ],
   "source": [
    "print(\"Best Hyperparameters: \", grid_search.best_params_)"
   ]
  },
  {
   "cell_type": "code",
   "execution_count": 8,
   "metadata": {},
   "outputs": [],
   "source": [
    "best_random_forest_classifier = grid_search.best_estimator_"
   ]
  },
  {
   "cell_type": "code",
   "execution_count": 9,
   "metadata": {},
   "outputs": [
    {
     "data": {
      "text/html": [
       "<style>#sk-container-id-2 {color: black;}#sk-container-id-2 pre{padding: 0;}#sk-container-id-2 div.sk-toggleable {background-color: white;}#sk-container-id-2 label.sk-toggleable__label {cursor: pointer;display: block;width: 100%;margin-bottom: 0;padding: 0.3em;box-sizing: border-box;text-align: center;}#sk-container-id-2 label.sk-toggleable__label-arrow:before {content: \"▸\";float: left;margin-right: 0.25em;color: #696969;}#sk-container-id-2 label.sk-toggleable__label-arrow:hover:before {color: black;}#sk-container-id-2 div.sk-estimator:hover label.sk-toggleable__label-arrow:before {color: black;}#sk-container-id-2 div.sk-toggleable__content {max-height: 0;max-width: 0;overflow: hidden;text-align: left;background-color: #f0f8ff;}#sk-container-id-2 div.sk-toggleable__content pre {margin: 0.2em;color: black;border-radius: 0.25em;background-color: #f0f8ff;}#sk-container-id-2 input.sk-toggleable__control:checked~div.sk-toggleable__content {max-height: 200px;max-width: 100%;overflow: auto;}#sk-container-id-2 input.sk-toggleable__control:checked~label.sk-toggleable__label-arrow:before {content: \"▾\";}#sk-container-id-2 div.sk-estimator input.sk-toggleable__control:checked~label.sk-toggleable__label {background-color: #d4ebff;}#sk-container-id-2 div.sk-label input.sk-toggleable__control:checked~label.sk-toggleable__label {background-color: #d4ebff;}#sk-container-id-2 input.sk-hidden--visually {border: 0;clip: rect(1px 1px 1px 1px);clip: rect(1px, 1px, 1px, 1px);height: 1px;margin: -1px;overflow: hidden;padding: 0;position: absolute;width: 1px;}#sk-container-id-2 div.sk-estimator {font-family: monospace;background-color: #f0f8ff;border: 1px dotted black;border-radius: 0.25em;box-sizing: border-box;margin-bottom: 0.5em;}#sk-container-id-2 div.sk-estimator:hover {background-color: #d4ebff;}#sk-container-id-2 div.sk-parallel-item::after {content: \"\";width: 100%;border-bottom: 1px solid gray;flex-grow: 1;}#sk-container-id-2 div.sk-label:hover label.sk-toggleable__label {background-color: #d4ebff;}#sk-container-id-2 div.sk-serial::before {content: \"\";position: absolute;border-left: 1px solid gray;box-sizing: border-box;top: 0;bottom: 0;left: 50%;z-index: 0;}#sk-container-id-2 div.sk-serial {display: flex;flex-direction: column;align-items: center;background-color: white;padding-right: 0.2em;padding-left: 0.2em;position: relative;}#sk-container-id-2 div.sk-item {position: relative;z-index: 1;}#sk-container-id-2 div.sk-parallel {display: flex;align-items: stretch;justify-content: center;background-color: white;position: relative;}#sk-container-id-2 div.sk-item::before, #sk-container-id-2 div.sk-parallel-item::before {content: \"\";position: absolute;border-left: 1px solid gray;box-sizing: border-box;top: 0;bottom: 0;left: 50%;z-index: -1;}#sk-container-id-2 div.sk-parallel-item {display: flex;flex-direction: column;z-index: 1;position: relative;background-color: white;}#sk-container-id-2 div.sk-parallel-item:first-child::after {align-self: flex-end;width: 50%;}#sk-container-id-2 div.sk-parallel-item:last-child::after {align-self: flex-start;width: 50%;}#sk-container-id-2 div.sk-parallel-item:only-child::after {width: 0;}#sk-container-id-2 div.sk-dashed-wrapped {border: 1px dashed gray;margin: 0 0.4em 0.5em 0.4em;box-sizing: border-box;padding-bottom: 0.4em;background-color: white;}#sk-container-id-2 div.sk-label label {font-family: monospace;font-weight: bold;display: inline-block;line-height: 1.2em;}#sk-container-id-2 div.sk-label-container {text-align: center;}#sk-container-id-2 div.sk-container {/* jupyter's `normalize.less` sets `[hidden] { display: none; }` but bootstrap.min.css set `[hidden] { display: none !important; }` so we also need the `!important` here to be able to override the default hidden behavior on the sphinx rendered scikit-learn.org. See: https://github.com/scikit-learn/scikit-learn/issues/21755 */display: inline-block !important;position: relative;}#sk-container-id-2 div.sk-text-repr-fallback {display: none;}</style><div id=\"sk-container-id-2\" class=\"sk-top-container\"><div class=\"sk-text-repr-fallback\"><pre>RandomForestClassifier(class_weight={&#x27;ambient&#x27;: 0.054466230936819175,\n",
       "                                     &#x27;enigmatic&#x27;: 0.08932461873638345,\n",
       "                                     &#x27;epic&#x27;: 0.10893246187363835,\n",
       "                                     &#x27;focus&#x27;: 0.10893246187363835,\n",
       "                                     &#x27;happy&#x27;: 0.10893246187363835,\n",
       "                                     &#x27;relax&#x27;: 0.10893246187363835,\n",
       "                                     &#x27;romance&#x27;: 0.10893246187363835,\n",
       "                                     &#x27;sad&#x27;: 0.10893246187363835,\n",
       "                                     &#x27;tranquil&#x27;: 0.09368191721132897,\n",
       "                                     &#x27;upbeat&#x27;: 0.10893246187363835},\n",
       "                       max_depth=20, n_estimators=50, random_state=42)</pre><b>In a Jupyter environment, please rerun this cell to show the HTML representation or trust the notebook. <br />On GitHub, the HTML representation is unable to render, please try loading this page with nbviewer.org.</b></div><div class=\"sk-container\" hidden><div class=\"sk-item\"><div class=\"sk-estimator sk-toggleable\"><input class=\"sk-toggleable__control sk-hidden--visually\" id=\"sk-estimator-id-4\" type=\"checkbox\" checked><label for=\"sk-estimator-id-4\" class=\"sk-toggleable__label sk-toggleable__label-arrow\">RandomForestClassifier</label><div class=\"sk-toggleable__content\"><pre>RandomForestClassifier(class_weight={&#x27;ambient&#x27;: 0.054466230936819175,\n",
       "                                     &#x27;enigmatic&#x27;: 0.08932461873638345,\n",
       "                                     &#x27;epic&#x27;: 0.10893246187363835,\n",
       "                                     &#x27;focus&#x27;: 0.10893246187363835,\n",
       "                                     &#x27;happy&#x27;: 0.10893246187363835,\n",
       "                                     &#x27;relax&#x27;: 0.10893246187363835,\n",
       "                                     &#x27;romance&#x27;: 0.10893246187363835,\n",
       "                                     &#x27;sad&#x27;: 0.10893246187363835,\n",
       "                                     &#x27;tranquil&#x27;: 0.09368191721132897,\n",
       "                                     &#x27;upbeat&#x27;: 0.10893246187363835},\n",
       "                       max_depth=20, n_estimators=50, random_state=42)</pre></div></div></div></div></div>"
      ],
      "text/plain": [
       "RandomForestClassifier(class_weight={'ambient': 0.054466230936819175,\n",
       "                                     'enigmatic': 0.08932461873638345,\n",
       "                                     'epic': 0.10893246187363835,\n",
       "                                     'focus': 0.10893246187363835,\n",
       "                                     'happy': 0.10893246187363835,\n",
       "                                     'relax': 0.10893246187363835,\n",
       "                                     'romance': 0.10893246187363835,\n",
       "                                     'sad': 0.10893246187363835,\n",
       "                                     'tranquil': 0.09368191721132897,\n",
       "                                     'upbeat': 0.10893246187363835},\n",
       "                       max_depth=20, n_estimators=50, random_state=42)"
      ]
     },
     "execution_count": 9,
     "metadata": {},
     "output_type": "execute_result"
    }
   ],
   "source": [
    "best_random_forest_classifier.fit(X_train, y_train)"
   ]
  },
  {
   "cell_type": "code",
   "execution_count": 10,
   "metadata": {},
   "outputs": [],
   "source": [
    "mod_spotify_df = pd.read_csv('mod_spotify_songs.csv')\n",
    "spotify_df = pd.read_csv('final_spotify_songs.csv')"
   ]
  },
  {
   "cell_type": "code",
   "execution_count": 11,
   "metadata": {},
   "outputs": [],
   "source": [
    "predicted_moods_rf = best_random_forest_classifier.predict(mod_spotify_df)"
   ]
  },
  {
   "cell_type": "code",
   "execution_count": 12,
   "metadata": {},
   "outputs": [],
   "source": [
    "mod_spotify_df['predicted_mood_hprf'] = predicted_moods_rf"
   ]
  },
  {
   "cell_type": "code",
   "execution_count": 13,
   "metadata": {},
   "outputs": [
    {
     "data": {
      "text/html": [
       "<div>\n",
       "<style scoped>\n",
       "    .dataframe tbody tr th:only-of-type {\n",
       "        vertical-align: middle;\n",
       "    }\n",
       "\n",
       "    .dataframe tbody tr th {\n",
       "        vertical-align: top;\n",
       "    }\n",
       "\n",
       "    .dataframe thead th {\n",
       "        text-align: right;\n",
       "    }\n",
       "</style>\n",
       "<table border=\"1\" class=\"dataframe\">\n",
       "  <thead>\n",
       "    <tr style=\"text-align: right;\">\n",
       "      <th></th>\n",
       "      <th>danceability</th>\n",
       "      <th>energy</th>\n",
       "      <th>key</th>\n",
       "      <th>loudness</th>\n",
       "      <th>mode</th>\n",
       "      <th>speechiness</th>\n",
       "      <th>acousticness</th>\n",
       "      <th>instrumentalness</th>\n",
       "      <th>liveness</th>\n",
       "      <th>valence</th>\n",
       "      <th>tempo</th>\n",
       "      <th>duration_ms</th>\n",
       "      <th>predicted_mood_hprf</th>\n",
       "    </tr>\n",
       "  </thead>\n",
       "  <tbody>\n",
       "    <tr>\n",
       "      <th>0</th>\n",
       "      <td>0.565</td>\n",
       "      <td>0.962</td>\n",
       "      <td>8</td>\n",
       "      <td>-2.981</td>\n",
       "      <td>1</td>\n",
       "      <td>0.0640</td>\n",
       "      <td>0.437</td>\n",
       "      <td>0.000000</td>\n",
       "      <td>0.0560</td>\n",
       "      <td>0.906</td>\n",
       "      <td>148.808</td>\n",
       "      <td>160227</td>\n",
       "      <td>happy</td>\n",
       "    </tr>\n",
       "    <tr>\n",
       "      <th>1</th>\n",
       "      <td>0.474</td>\n",
       "      <td>0.598</td>\n",
       "      <td>5</td>\n",
       "      <td>-5.023</td>\n",
       "      <td>1</td>\n",
       "      <td>0.0973</td>\n",
       "      <td>0.768</td>\n",
       "      <td>0.000000</td>\n",
       "      <td>0.0841</td>\n",
       "      <td>0.917</td>\n",
       "      <td>184.484</td>\n",
       "      <td>131853</td>\n",
       "      <td>romance</td>\n",
       "    </tr>\n",
       "    <tr>\n",
       "      <th>2</th>\n",
       "      <td>0.647</td>\n",
       "      <td>0.582</td>\n",
       "      <td>10</td>\n",
       "      <td>-9.538</td>\n",
       "      <td>0</td>\n",
       "      <td>0.0755</td>\n",
       "      <td>0.410</td>\n",
       "      <td>0.000002</td>\n",
       "      <td>0.0715</td>\n",
       "      <td>0.915</td>\n",
       "      <td>167.396</td>\n",
       "      <td>146480</td>\n",
       "      <td>epic</td>\n",
       "    </tr>\n",
       "    <tr>\n",
       "      <th>3</th>\n",
       "      <td>0.688</td>\n",
       "      <td>0.700</td>\n",
       "      <td>7</td>\n",
       "      <td>-6.295</td>\n",
       "      <td>1</td>\n",
       "      <td>0.0757</td>\n",
       "      <td>0.730</td>\n",
       "      <td>0.000000</td>\n",
       "      <td>0.7270</td>\n",
       "      <td>0.876</td>\n",
       "      <td>119.117</td>\n",
       "      <td>142547</td>\n",
       "      <td>epic</td>\n",
       "    </tr>\n",
       "    <tr>\n",
       "      <th>4</th>\n",
       "      <td>0.168</td>\n",
       "      <td>0.326</td>\n",
       "      <td>5</td>\n",
       "      <td>-9.981</td>\n",
       "      <td>1</td>\n",
       "      <td>0.0324</td>\n",
       "      <td>0.721</td>\n",
       "      <td>0.000600</td>\n",
       "      <td>0.3160</td>\n",
       "      <td>0.322</td>\n",
       "      <td>174.794</td>\n",
       "      <td>182400</td>\n",
       "      <td>sad</td>\n",
       "    </tr>\n",
       "  </tbody>\n",
       "</table>\n",
       "</div>"
      ],
      "text/plain": [
       "   danceability  energy  key  loudness  mode  speechiness  acousticness  \\\n",
       "0         0.565   0.962    8    -2.981     1       0.0640         0.437   \n",
       "1         0.474   0.598    5    -5.023     1       0.0973         0.768   \n",
       "2         0.647   0.582   10    -9.538     0       0.0755         0.410   \n",
       "3         0.688   0.700    7    -6.295     1       0.0757         0.730   \n",
       "4         0.168   0.326    5    -9.981     1       0.0324         0.721   \n",
       "\n",
       "   instrumentalness  liveness  valence    tempo  duration_ms  \\\n",
       "0          0.000000    0.0560    0.906  148.808       160227   \n",
       "1          0.000000    0.0841    0.917  184.484       131853   \n",
       "2          0.000002    0.0715    0.915  167.396       146480   \n",
       "3          0.000000    0.7270    0.876  119.117       142547   \n",
       "4          0.000600    0.3160    0.322  174.794       182400   \n",
       "\n",
       "  predicted_mood_hprf  \n",
       "0               happy  \n",
       "1             romance  \n",
       "2                epic  \n",
       "3                epic  \n",
       "4                 sad  "
      ]
     },
     "execution_count": 13,
     "metadata": {},
     "output_type": "execute_result"
    }
   ],
   "source": [
    "mod_spotify_df.head()"
   ]
  },
  {
   "cell_type": "code",
   "execution_count": 14,
   "metadata": {},
   "outputs": [
    {
     "name": "stdout",
     "output_type": "stream",
     "text": [
      "Accuracy: 0.9814814814814815\n",
      "Precision: 0.9815781966070204\n",
      "Recall: 0.9814814814814815\n",
      "F1 Score: 0.9814615768344661\n"
     ]
    }
   ],
   "source": [
    "accuracy = accuracy_score(y_train, best_random_forest_classifier.predict(X_train))\n",
    "precision = precision_score(y_train, best_random_forest_classifier.predict(X_train), average='weighted')\n",
    "recall = recall_score(y_train, best_random_forest_classifier.predict(X_train), average='weighted')\n",
    "f1 = f1_score(y_train, best_random_forest_classifier.predict(X_train), average='weighted')\n",
    "\n",
    "print(f\"Accuracy: {accuracy}\")\n",
    "print(f\"Precision: {precision}\")\n",
    "print(f\"Recall: {recall}\")\n",
    "print(f\"F1 Score: {f1}\")"
   ]
  },
  {
   "cell_type": "code",
   "execution_count": 15,
   "metadata": {},
   "outputs": [
    {
     "name": "stdout",
     "output_type": "stream",
     "text": [
      "Confusion Matrix:\n",
      "[[ 50   0   0   0   0   0   0   0   0   0]\n",
      " [  0  82   0   0   0   0   0   0   0   0]\n",
      " [  0   0  97   0   3   0   0   0   0   0]\n",
      " [  0   0   0 100   0   0   0   0   0   0]\n",
      " [  0   0   3   0  97   0   0   0   0   0]\n",
      " [  0   0   0   0   0 100   0   0   0   0]\n",
      " [  0   0   0   0   0   0  96   3   0   1]\n",
      " [  0   0   0   0   0   0   7  93   0   0]\n",
      " [  0   0   0   0   0   0   0   0  86   0]\n",
      " [  0   0   0   0   0   0   0   0   0 100]]\n"
     ]
    }
   ],
   "source": [
    "conf_matrix = confusion_matrix(y_train, best_random_forest_classifier.predict(X_train))\n",
    "print(\"Confusion Matrix:\")\n",
    "print(conf_matrix)"
   ]
  },
  {
   "cell_type": "code",
   "execution_count": 18,
   "metadata": {},
   "outputs": [
    {
     "data": {
      "image/png": "[encoded data removed]",
      "text/plain": [
       "<Figure size 1200x800 with 1 Axes>"
      ]
     },
     "metadata": {},
     "output_type": "display_data"
    }
   ],
   "source": [
    "classes = np.unique(y_train)\n",
    "plt.figure(figsize=(12, 8))\n",
    "for i in range(len(classes)):\n",
    "    fpr, tpr, _ = roc_curve(y_train == classes[i], best_random_forest_classifier.predict_proba(X_train)[:, i])\n",
    "    roc_auc = roc_auc_score(y_train == classes[i], best_random_forest_classifier.predict_proba(X_train)[:, i])\n",
    "    plt.plot(fpr, tpr, label=f'{classes[i]} (AUC = {roc_auc:.2f})')\n",
    "\n",
    "plt.plot([0, 1], [0, 1], color='navy', linestyle='--')\n",
    "plt.xlabel('False Positive Rate')\n",
    "plt.ylabel('True Positive Rate')\n",
    "plt.title('ROC Curve for KNN Classifier')\n",
    "plt.legend(loc=\"lower right\")\n",
    "plt.show()"
   ]
  },
  {
   "cell_type": "code",
   "execution_count": 19,
   "metadata": {},
   "outputs": [],
   "source": [
    "spotify_df.to_csv('spotify-data-hyper-rfc-final.csv', index=False)"
   ]
  }
 ],
 "metadata": {
  "kernelspec": {
   "display_name": "base",
   "language": "python",
   "name": "python3"
  },
  "language_info": {
   "codemirror_mode": {
    "name": "ipython",
    "version": 3
   },
   "file_extension": ".py",
   "mimetype": "text/x-python",
   "name": "python",
   "nbconvert_exporter": "python",
   "pygments_lexer": "ipython3",
   "version": "3.11.5"
  }
 },
 "nbformat": 4,
 "nbformat_minor": 2
}
