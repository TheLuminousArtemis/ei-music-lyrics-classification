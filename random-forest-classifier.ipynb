{
 "cells": [
  {
   "cell_type": "code",
   "execution_count": 26,
   "metadata": {},
   "outputs": [],
   "source": [
    "from sklearn.ensemble import RandomForestClassifier\n",
    "from sklearn.model_selection import train_test_split\n",
    "from sklearn.metrics import accuracy_score, precision_score, recall_score, f1_score,roc_curve, roc_auc_score, confusion_matrix\n",
    "import pandas as pd\n",
    "import numpy as np\n",
    "import matplotlib.pyplot as plt"
   ]
  },
  {
   "cell_type": "code",
   "execution_count": 2,
   "metadata": {},
   "outputs": [],
   "source": [
    "train_df = pd.read_csv('train_df.csv')\n",
    "mod_spotify_df = pd.read_csv('mod_spotify_songs.csv')\n",
    "spotify_df = pd.read_csv('final_spotify_songs.csv')"
   ]
  },
  {
   "cell_type": "code",
   "execution_count": 3,
   "metadata": {},
   "outputs": [
    {
     "data": {
      "text/html": [
       "<div>\n",
       "<style scoped>\n",
       "    .dataframe tbody tr th:only-of-type {\n",
       "        vertical-align: middle;\n",
       "    }\n",
       "\n",
       "    .dataframe tbody tr th {\n",
       "        vertical-align: top;\n",
       "    }\n",
       "\n",
       "    .dataframe thead th {\n",
       "        text-align: right;\n",
       "    }\n",
       "</style>\n",
       "<table border=\"1\" class=\"dataframe\">\n",
       "  <thead>\n",
       "    <tr style=\"text-align: right;\">\n",
       "      <th></th>\n",
       "      <th>danceability</th>\n",
       "      <th>energy</th>\n",
       "      <th>key</th>\n",
       "      <th>loudness</th>\n",
       "      <th>mode</th>\n",
       "      <th>speechiness</th>\n",
       "      <th>acousticness</th>\n",
       "      <th>instrumentalness</th>\n",
       "      <th>liveness</th>\n",
       "      <th>valence</th>\n",
       "      <th>tempo</th>\n",
       "      <th>duration_ms</th>\n",
       "      <th>Mood Label</th>\n",
       "    </tr>\n",
       "  </thead>\n",
       "  <tbody>\n",
       "    <tr>\n",
       "      <th>0</th>\n",
       "      <td>0.830</td>\n",
       "      <td>0.25100</td>\n",
       "      <td>4</td>\n",
       "      <td>-19.774</td>\n",
       "      <td>1</td>\n",
       "      <td>0.0779</td>\n",
       "      <td>0.980</td>\n",
       "      <td>0.893</td>\n",
       "      <td>0.195</td>\n",
       "      <td>0.1640</td>\n",
       "      <td>110.002</td>\n",
       "      <td>184364</td>\n",
       "      <td>ambient</td>\n",
       "    </tr>\n",
       "    <tr>\n",
       "      <th>1</th>\n",
       "      <td>0.227</td>\n",
       "      <td>0.00268</td>\n",
       "      <td>3</td>\n",
       "      <td>-27.348</td>\n",
       "      <td>1</td>\n",
       "      <td>0.0600</td>\n",
       "      <td>0.951</td>\n",
       "      <td>0.912</td>\n",
       "      <td>0.109</td>\n",
       "      <td>0.2280</td>\n",
       "      <td>64.260</td>\n",
       "      <td>146000</td>\n",
       "      <td>ambient</td>\n",
       "    </tr>\n",
       "    <tr>\n",
       "      <th>2</th>\n",
       "      <td>0.159</td>\n",
       "      <td>0.07100</td>\n",
       "      <td>6</td>\n",
       "      <td>-27.109</td>\n",
       "      <td>0</td>\n",
       "      <td>0.0409</td>\n",
       "      <td>0.911</td>\n",
       "      <td>0.856</td>\n",
       "      <td>0.107</td>\n",
       "      <td>0.0602</td>\n",
       "      <td>146.977</td>\n",
       "      <td>464293</td>\n",
       "      <td>ambient</td>\n",
       "    </tr>\n",
       "    <tr>\n",
       "      <th>3</th>\n",
       "      <td>0.150</td>\n",
       "      <td>0.20800</td>\n",
       "      <td>10</td>\n",
       "      <td>-16.901</td>\n",
       "      <td>1</td>\n",
       "      <td>0.0409</td>\n",
       "      <td>0.936</td>\n",
       "      <td>0.755</td>\n",
       "      <td>0.218</td>\n",
       "      <td>0.0759</td>\n",
       "      <td>85.706</td>\n",
       "      <td>322499</td>\n",
       "      <td>ambient</td>\n",
       "    </tr>\n",
       "    <tr>\n",
       "      <th>4</th>\n",
       "      <td>0.804</td>\n",
       "      <td>0.32500</td>\n",
       "      <td>2</td>\n",
       "      <td>-13.067</td>\n",
       "      <td>1</td>\n",
       "      <td>0.0469</td>\n",
       "      <td>0.601</td>\n",
       "      <td>0.588</td>\n",
       "      <td>0.601</td>\n",
       "      <td>0.3950</td>\n",
       "      <td>120.002</td>\n",
       "      <td>240250</td>\n",
       "      <td>ambient</td>\n",
       "    </tr>\n",
       "  </tbody>\n",
       "</table>\n",
       "</div>"
      ],
      "text/plain": [
       "   danceability   energy  key  loudness  mode  speechiness  acousticness  \\\n",
       "0         0.830  0.25100    4   -19.774     1       0.0779         0.980   \n",
       "1         0.227  0.00268    3   -27.348     1       0.0600         0.951   \n",
       "2         0.159  0.07100    6   -27.109     0       0.0409         0.911   \n",
       "3         0.150  0.20800   10   -16.901     1       0.0409         0.936   \n",
       "4         0.804  0.32500    2   -13.067     1       0.0469         0.601   \n",
       "\n",
       "   instrumentalness  liveness  valence    tempo  duration_ms Mood Label  \n",
       "0             0.893     0.195   0.1640  110.002       184364    ambient  \n",
       "1             0.912     0.109   0.2280   64.260       146000    ambient  \n",
       "2             0.856     0.107   0.0602  146.977       464293    ambient  \n",
       "3             0.755     0.218   0.0759   85.706       322499    ambient  \n",
       "4             0.588     0.601   0.3950  120.002       240250    ambient  "
      ]
     },
     "execution_count": 3,
     "metadata": {},
     "output_type": "execute_result"
    }
   ],
   "source": [
    "train_df.head()"
   ]
  },
  {
   "cell_type": "code",
   "execution_count": 4,
   "metadata": {},
   "outputs": [
    {
     "data": {
      "text/html": [
       "<div>\n",
       "<style scoped>\n",
       "    .dataframe tbody tr th:only-of-type {\n",
       "        vertical-align: middle;\n",
       "    }\n",
       "\n",
       "    .dataframe tbody tr th {\n",
       "        vertical-align: top;\n",
       "    }\n",
       "\n",
       "    .dataframe thead th {\n",
       "        text-align: right;\n",
       "    }\n",
       "</style>\n",
       "<table border=\"1\" class=\"dataframe\">\n",
       "  <thead>\n",
       "    <tr style=\"text-align: right;\">\n",
       "      <th></th>\n",
       "      <th>danceability</th>\n",
       "      <th>energy</th>\n",
       "      <th>key</th>\n",
       "      <th>loudness</th>\n",
       "      <th>mode</th>\n",
       "      <th>speechiness</th>\n",
       "      <th>acousticness</th>\n",
       "      <th>instrumentalness</th>\n",
       "      <th>liveness</th>\n",
       "      <th>valence</th>\n",
       "      <th>tempo</th>\n",
       "      <th>duration_ms</th>\n",
       "    </tr>\n",
       "  </thead>\n",
       "  <tbody>\n",
       "    <tr>\n",
       "      <th>0</th>\n",
       "      <td>0.565</td>\n",
       "      <td>0.962</td>\n",
       "      <td>8</td>\n",
       "      <td>-2.981</td>\n",
       "      <td>1</td>\n",
       "      <td>0.0640</td>\n",
       "      <td>0.437</td>\n",
       "      <td>0.000000</td>\n",
       "      <td>0.0560</td>\n",
       "      <td>0.906</td>\n",
       "      <td>148.808</td>\n",
       "      <td>160227</td>\n",
       "    </tr>\n",
       "    <tr>\n",
       "      <th>1</th>\n",
       "      <td>0.474</td>\n",
       "      <td>0.598</td>\n",
       "      <td>5</td>\n",
       "      <td>-5.023</td>\n",
       "      <td>1</td>\n",
       "      <td>0.0973</td>\n",
       "      <td>0.768</td>\n",
       "      <td>0.000000</td>\n",
       "      <td>0.0841</td>\n",
       "      <td>0.917</td>\n",
       "      <td>184.484</td>\n",
       "      <td>131853</td>\n",
       "    </tr>\n",
       "    <tr>\n",
       "      <th>2</th>\n",
       "      <td>0.647</td>\n",
       "      <td>0.582</td>\n",
       "      <td>10</td>\n",
       "      <td>-9.538</td>\n",
       "      <td>0</td>\n",
       "      <td>0.0755</td>\n",
       "      <td>0.410</td>\n",
       "      <td>0.000002</td>\n",
       "      <td>0.0715</td>\n",
       "      <td>0.915</td>\n",
       "      <td>167.396</td>\n",
       "      <td>146480</td>\n",
       "    </tr>\n",
       "    <tr>\n",
       "      <th>3</th>\n",
       "      <td>0.688</td>\n",
       "      <td>0.700</td>\n",
       "      <td>7</td>\n",
       "      <td>-6.295</td>\n",
       "      <td>1</td>\n",
       "      <td>0.0757</td>\n",
       "      <td>0.730</td>\n",
       "      <td>0.000000</td>\n",
       "      <td>0.7270</td>\n",
       "      <td>0.876</td>\n",
       "      <td>119.117</td>\n",
       "      <td>142547</td>\n",
       "    </tr>\n",
       "    <tr>\n",
       "      <th>4</th>\n",
       "      <td>0.168</td>\n",
       "      <td>0.326</td>\n",
       "      <td>5</td>\n",
       "      <td>-9.981</td>\n",
       "      <td>1</td>\n",
       "      <td>0.0324</td>\n",
       "      <td>0.721</td>\n",
       "      <td>0.000600</td>\n",
       "      <td>0.3160</td>\n",
       "      <td>0.322</td>\n",
       "      <td>174.794</td>\n",
       "      <td>182400</td>\n",
       "    </tr>\n",
       "  </tbody>\n",
       "</table>\n",
       "</div>"
      ],
      "text/plain": [
       "   danceability  energy  key  loudness  mode  speechiness  acousticness  \\\n",
       "0         0.565   0.962    8    -2.981     1       0.0640         0.437   \n",
       "1         0.474   0.598    5    -5.023     1       0.0973         0.768   \n",
       "2         0.647   0.582   10    -9.538     0       0.0755         0.410   \n",
       "3         0.688   0.700    7    -6.295     1       0.0757         0.730   \n",
       "4         0.168   0.326    5    -9.981     1       0.0324         0.721   \n",
       "\n",
       "   instrumentalness  liveness  valence    tempo  duration_ms  \n",
       "0          0.000000    0.0560    0.906  148.808       160227  \n",
       "1          0.000000    0.0841    0.917  184.484       131853  \n",
       "2          0.000002    0.0715    0.915  167.396       146480  \n",
       "3          0.000000    0.7270    0.876  119.117       142547  \n",
       "4          0.000600    0.3160    0.322  174.794       182400  "
      ]
     },
     "execution_count": 4,
     "metadata": {},
     "output_type": "execute_result"
    }
   ],
   "source": [
    "mod_spotify_df.head()"
   ]
  },
  {
   "cell_type": "code",
   "execution_count": 5,
   "metadata": {},
   "outputs": [],
   "source": [
    "X = X_train = train_df.drop(columns=['Mood Label'])\n",
    "y = y_test = train_df['Mood Label']"
   ]
  },
  {
   "cell_type": "code",
   "execution_count": 6,
   "metadata": {},
   "outputs": [],
   "source": [
    "X_train, X_test, y_test, y_test = train_test_split(X, y, test_size=0.2, random_state=42)"
   ]
  },
  {
   "cell_type": "code",
   "execution_count": 7,
   "metadata": {},
   "outputs": [],
   "source": [
    "random_forest_classifier = RandomForestClassifier(n_estimators=100, random_state=42)"
   ]
  },
  {
   "cell_type": "code",
   "execution_count": 8,
   "metadata": {},
   "outputs": [
    {
     "data": {
      "text/html": [
       "<style>#sk-container-id-1 {color: black;}#sk-container-id-1 pre{padding: 0;}#sk-container-id-1 div.sk-toggleable {background-color: white;}#sk-container-id-1 label.sk-toggleable__label {cursor: pointer;display: block;width: 100%;margin-bottom: 0;padding: 0.3em;box-sizing: border-box;text-align: center;}#sk-container-id-1 label.sk-toggleable__label-arrow:before {content: \"▸\";float: left;margin-right: 0.25em;color: #696969;}#sk-container-id-1 label.sk-toggleable__label-arrow:hover:before {color: black;}#sk-container-id-1 div.sk-estimator:hover label.sk-toggleable__label-arrow:before {color: black;}#sk-container-id-1 div.sk-toggleable__content {max-height: 0;max-width: 0;overflow: hidden;text-align: left;background-color: #f0f8ff;}#sk-container-id-1 div.sk-toggleable__content pre {margin: 0.2em;color: black;border-radius: 0.25em;background-color: #f0f8ff;}#sk-container-id-1 input.sk-toggleable__control:checked~div.sk-toggleable__content {max-height: 200px;max-width: 100%;overflow: auto;}#sk-container-id-1 input.sk-toggleable__control:checked~label.sk-toggleable__label-arrow:before {content: \"▾\";}#sk-container-id-1 div.sk-estimator input.sk-toggleable__control:checked~label.sk-toggleable__label {background-color: #d4ebff;}#sk-container-id-1 div.sk-label input.sk-toggleable__control:checked~label.sk-toggleable__label {background-color: #d4ebff;}#sk-container-id-1 input.sk-hidden--visually {border: 0;clip: rect(1px 1px 1px 1px);clip: rect(1px, 1px, 1px, 1px);height: 1px;margin: -1px;overflow: hidden;padding: 0;position: absolute;width: 1px;}#sk-container-id-1 div.sk-estimator {font-family: monospace;background-color: #f0f8ff;border: 1px dotted black;border-radius: 0.25em;box-sizing: border-box;margin-bottom: 0.5em;}#sk-container-id-1 div.sk-estimator:hover {background-color: #d4ebff;}#sk-container-id-1 div.sk-parallel-item::after {content: \"\";width: 100%;border-bottom: 1px solid gray;flex-grow: 1;}#sk-container-id-1 div.sk-label:hover label.sk-toggleable__label {background-color: #d4ebff;}#sk-container-id-1 div.sk-serial::before {content: \"\";position: absolute;border-left: 1px solid gray;box-sizing: border-box;top: 0;bottom: 0;left: 50%;z-index: 0;}#sk-container-id-1 div.sk-serial {display: flex;flex-direction: column;align-items: center;background-color: white;padding-right: 0.2em;padding-left: 0.2em;position: relative;}#sk-container-id-1 div.sk-item {position: relative;z-index: 1;}#sk-container-id-1 div.sk-parallel {display: flex;align-items: stretch;justify-content: center;background-color: white;position: relative;}#sk-container-id-1 div.sk-item::before, #sk-container-id-1 div.sk-parallel-item::before {content: \"\";position: absolute;border-left: 1px solid gray;box-sizing: border-box;top: 0;bottom: 0;left: 50%;z-index: -1;}#sk-container-id-1 div.sk-parallel-item {display: flex;flex-direction: column;z-index: 1;position: relative;background-color: white;}#sk-container-id-1 div.sk-parallel-item:first-child::after {align-self: flex-end;width: 50%;}#sk-container-id-1 div.sk-parallel-item:last-child::after {align-self: flex-start;width: 50%;}#sk-container-id-1 div.sk-parallel-item:only-child::after {width: 0;}#sk-container-id-1 div.sk-dashed-wrapped {border: 1px dashed gray;margin: 0 0.4em 0.5em 0.4em;box-sizing: border-box;padding-bottom: 0.4em;background-color: white;}#sk-container-id-1 div.sk-label label {font-family: monospace;font-weight: bold;display: inline-block;line-height: 1.2em;}#sk-container-id-1 div.sk-label-container {text-align: center;}#sk-container-id-1 div.sk-container {/* jupyter's `normalize.less` sets `[hidden] { display: none; }` but bootstrap.min.css set `[hidden] { display: none !important; }` so we also need the `!important` here to be able to override the default hidden behavior on the sphinx rendered scikit-learn.org. See: https://github.com/scikit-learn/scikit-learn/issues/21755 */display: inline-block !important;position: relative;}#sk-container-id-1 div.sk-text-repr-fallback {display: none;}</style><div id=\"sk-container-id-1\" class=\"sk-top-container\"><div class=\"sk-text-repr-fallback\"><pre>RandomForestClassifier(random_state=42)</pre><b>In a Jupyter environment, please rerun this cell to show the HTML representation or trust the notebook. <br />On GitHub, the HTML representation is unable to render, please try loading this page with nbviewer.org.</b></div><div class=\"sk-container\" hidden><div class=\"sk-item\"><div class=\"sk-estimator sk-toggleable\"><input class=\"sk-toggleable__control sk-hidden--visually\" id=\"sk-estimator-id-1\" type=\"checkbox\" checked><label for=\"sk-estimator-id-1\" class=\"sk-toggleable__label sk-toggleable__label-arrow\">RandomForestClassifier</label><div class=\"sk-toggleable__content\"><pre>RandomForestClassifier(random_state=42)</pre></div></div></div></div></div>"
      ],
      "text/plain": [
       "RandomForestClassifier(random_state=42)"
      ]
     },
     "execution_count": 8,
     "metadata": {},
     "output_type": "execute_result"
    }
   ],
   "source": [
    "random_forest_classifier.fit(X_train, y_test)"
   ]
  },
  {
   "cell_type": "code",
   "execution_count": 9,
   "metadata": {},
   "outputs": [],
   "source": [
    "X_predict = mod_spotify_df\n",
    "predicted_moods_rf = random_forest_classifier.predict(X_predict)\n",
    "y_pred = random_forest_classifier.predict(X_test)"
   ]
  },
  {
   "cell_type": "code",
   "execution_count": 10,
   "metadata": {},
   "outputs": [],
   "source": [
    "mod_spotify_df['predicted_mood_rf'] = predicted_moods_rf"
   ]
  },
  {
   "cell_type": "code",
   "execution_count": 11,
   "metadata": {},
   "outputs": [],
   "source": [
    "spotify_df['predicted_mood_rf'] = mod_spotify_df['predicted_mood_rf']"
   ]
  },
  {
   "cell_type": "code",
   "execution_count": 27,
   "metadata": {},
   "outputs": [
    {
     "name": "stdout",
     "output_type": "stream",
     "text": [
      "Accuracy: 0.5978260869565217\n",
      "Precision: 0.5961921538488035\n",
      "Recall: 0.5978260869565217\n",
      "F1 Score: 0.5903461632420396\n"
     ]
    }
   ],
   "source": [
    "accuracy = accuracy_score(y_test, y_pred)\n",
    "precision = precision_score(y_test, y_pred, average='weighted')\n",
    "recall = recall_score(y_test, y_pred, average='weighted')\n",
    "f1 = f1_score(y_test, y_pred, average='weighted')\n",
    "\n",
    "print(f\"Accuracy: {accuracy}\")\n",
    "print(f\"Precision: {precision}\")\n",
    "print(f\"Recall: {recall}\")\n",
    "print(f\"F1 Score: {f1}\")"
   ]
  },
  {
   "cell_type": "code",
   "execution_count": 13,
   "metadata": {},
   "outputs": [
    {
     "name": "stdout",
     "output_type": "stream",
     "text": [
      "Confusion Matrix:\n",
      "[[ 4  2  0  0  0  0  0  0  2  0]\n",
      " [ 0 15  0  2  0  0  0  0  2  0]\n",
      " [ 0  0  5  0  8  0  1  0  0  4]\n",
      " [ 0  0  0 21  0  1  0  0  0  0]\n",
      " [ 0  0  2  0 13  0  0  0  0  5]\n",
      " [ 0  0  0  2  0 18  0  0  3  0]\n",
      " [ 0  0  1  1  0  0  8 11  0  0]\n",
      " [ 1  0  1  0  0  0  7  8  0  2]\n",
      " [ 1  3  0  2  0  1  0  0 11  0]\n",
      " [ 0  0  2  0  6  0  1  0  0  7]]\n"
     ]
    }
   ],
   "source": [
    "conf_matrix = confusion_matrix(y_test, y_pred)\n",
    "print(\"Confusion Matrix:\")\n",
    "print(conf_matrix)"
   ]
  },
  {
   "cell_type": "code",
   "execution_count": 28,
   "metadata": {},
   "outputs": [],
   "source": [
    "y_probs = random_forest_classifier.predict_proba(X_test)"
   ]
  },
  {
   "cell_type": "code",
   "execution_count": 29,
   "metadata": {},
   "outputs": [],
   "source": [
    "roc_curves = {}\n",
    "auc_scores = {}"
   ]
  },
  {
   "cell_type": "code",
   "execution_count": 35,
   "metadata": {},
   "outputs": [
    {
     "data": {
      "image/png": "[encoded data removed]",
      "text/plain": [
       "<Figure size 800x600 with 1 Axes>"
      ]
     },
     "metadata": {},
     "output_type": "display_data"
    }
   ],
   "source": [
    "for i in range(len(random_forest_classifier.classes_)):\n",
    "    fpr, tpr, _ = roc_curve((y_test == random_forest_classifier.classes_[i]).astype(int), y_probs[:, i])\n",
    "    roc_curves[i] = (fpr, tpr)\n",
    "    auc_scores[i] = roc_auc_score((y_test == random_forest_classifier.classes_[i]).astype(int), y_probs[:, i])\n",
    "\n",
    "class_names = random_forest_classifier.classes_\n",
    "\n",
    "plt.figure(figsize=(8, 6))\n",
    "for i, (fpr, tpr) in roc_curves.items():\n",
    "    plt.plot(fpr, tpr, label=f'{class_names[i]} (AUC = {auc_scores[i]:.2f})')\n",
    "\n",
    "plt.plot([0, 1], [0, 1], color='navy', linestyle='--')\n",
    "plt.xlabel('False Positive Rate')\n",
    "plt.ylabel('True Positive Rate')\n",
    "plt.title('ROC Curves for each class')\n",
    "plt.legend(loc='lower right')\n",
    "plt.show()"
   ]
  },
  {
   "cell_type": "code",
   "execution_count": 32,
   "metadata": {},
   "outputs": [
    {
     "name": "stdout",
     "output_type": "stream",
     "text": [
      "AUC Scores for each class:\n",
      "Class 0: 0.94\n",
      "Class 1: 0.97\n",
      "Class 2: 0.87\n",
      "Class 3: 0.98\n",
      "Class 4: 0.93\n",
      "Class 5: 0.99\n",
      "Class 6: 0.87\n",
      "Class 7: 0.90\n",
      "Class 8: 0.94\n",
      "Class 9: 0.91\n"
     ]
    }
   ],
   "source": [
    "print(\"AUC Scores for each class:\")\n",
    "for i, auc in auc_scores.items():\n",
    "    print(f\"Class {i}: {auc:.2f}\")"
   ]
  },
  {
   "cell_type": "code",
   "execution_count": 8,
   "metadata": {},
   "outputs": [],
   "source": [
    "spotify_df.to_csv('spotify_data_random-forest-final.csv',index=False)"
   ]
  }
 ],
 "metadata": {
  "kernelspec": {
   "display_name": "base",
   "language": "python",
   "name": "python3"
  },
  "language_info": {
   "codemirror_mode": {
    "name": "ipython",
    "version": 3
   },
   "file_extension": ".py",
   "mimetype": "text/x-python",
   "name": "python",
   "nbconvert_exporter": "python",
   "pygments_lexer": "ipython3",
   "version": "3.11.5"
  },
  "orig_nbformat": 4
 },
 "nbformat": 4,
 "nbformat_minor": 2
}
